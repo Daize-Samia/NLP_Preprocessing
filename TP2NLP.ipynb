{
  "nbformat": 4,
  "nbformat_minor": 0,
  "metadata": {
    "colab": {
      "provenance": [],
      "authorship_tag": "ABX9TyPCazdLIxxvOFcM46RwlSGo",
      "include_colab_link": true
    },
    "kernelspec": {
      "name": "python3",
      "display_name": "Python 3"
    },
    "language_info": {
      "name": "python"
    }
  },
  "cells": [
    {
      "cell_type": "markdown",
      "metadata": {
        "id": "view-in-github",
        "colab_type": "text"
      },
      "source": [
        "<a href=\"https://colab.research.google.com/github/Daize-Samia/NLP_Preprocessing/blob/main/TP2NLP.ipynb\" target=\"_parent\"><img src=\"https://colab.research.google.com/assets/colab-badge.svg\" alt=\"Open In Colab\"/></a>"
      ]
    },
    {
      "cell_type": "code",
      "execution_count": null,
      "metadata": {
        "colab": {
          "base_uri": "https://localhost:8080/"
        },
        "id": "5okdwdNGDOAF",
        "outputId": "c5e2894c-fb0a-4093-8915-8a028c6562e3"
      },
      "outputs": [
        {
          "output_type": "stream",
          "name": "stdout",
          "text": [
            "Requirement already satisfied: gensim in /usr/local/lib/python3.10/dist-packages (4.3.2)\n",
            "Requirement already satisfied: numpy>=1.18.5 in /usr/local/lib/python3.10/dist-packages (from gensim) (1.23.5)\n",
            "Requirement already satisfied: scipy>=1.7.0 in /usr/local/lib/python3.10/dist-packages (from gensim) (1.11.3)\n",
            "Requirement already satisfied: smart-open>=1.8.1 in /usr/local/lib/python3.10/dist-packages (from gensim) (6.4.0)\n"
          ]
        },
        {
          "output_type": "stream",
          "name": "stderr",
          "text": [
            "[nltk_data] Downloading package punkt to /root/nltk_data...\n",
            "[nltk_data]   Package punkt is already up-to-date!\n"
          ]
        }
      ],
      "source": [
        "!pip install gensim\n",
        "from gensim.models import Word2Vec #afin de travailler avec des modèles Word2Vec\n",
        "from nltk.tokenize import word_tokenize\n",
        "import nltk #contient des modèles pour la tokenisation de textes dans différentes langues\n",
        "nltk.download('punkt')\n",
        "from google.colab import drive\n",
        "#drive.mount('/content/drive') # accéder à des fichiers ou des données qui y sont stockés."
      ]
    },
    {
      "cell_type": "code",
      "source": [
        "file_path = '/content/text'\n",
        "with open(file_path, 'r') as file:\n",
        "    text = file.read()"
      ],
      "metadata": {
        "id": "1VQfJW-jDS1V"
      },
      "execution_count": null,
      "outputs": []
    },
    {
      "cell_type": "code",
      "source": [
        "sentences = nltk.sent_tokenize(text)\n",
        "tokenized_sentences = [word_tokenize(sentence.lower()) for sentence in sentences]\n",
        "#utilise des fonctionnalités de la bibliothèque NLTK pour diviser le texte en phrases individuelles, puis chaque phrase est séparée en mots individuels (tokens) et convertie en lettres minuscules.\n"
      ],
      "metadata": {
        "id": "EBsVadqaDbPW"
      },
      "execution_count": null,
      "outputs": []
    },
    {
      "cell_type": "code",
      "source": [
        "model = Word2Vec(sentences=tokenized_sentences, vector_size=10, window=5, min_count=1, sg=0)\n",
        "# crée un modèle Word2Vec à l'aide de la bibliothèque Gensim en utilisant les phrases préalablement tokenisées et transformées en lettres minuscules\n"
      ],
      "metadata": {
        "id": "msu11i-9DdxM"
      },
      "execution_count": null,
      "outputs": []
    },
    {
      "cell_type": "code",
      "source": [
        "word_vector = model.wv['city']\n",
        "similar_words = model.wv.most_similar('city', topn=5)\n",
        "print(\"Vecteur sémantique de 'city':\", word_vector)\n",
        "print(\"Mots similaires à 'city':\", similar_words)\n",
        "# utilise le modèle Word2Vec créé précédemment pour obtenir des informations sur le mot \"city\" (ville) et trouver les mots similaires à ce mot dans le contexte du modèle\n"
      ],
      "metadata": {
        "colab": {
          "base_uri": "https://localhost:8080/"
        },
        "id": "uJIyJlryDgGq",
        "outputId": "47df272b-dc7f-45ea-845c-72f755698424"
      },
      "execution_count": null,
      "outputs": [
        {
          "output_type": "stream",
          "name": "stdout",
          "text": [
            "Vecteur sémantique de 'city': [ 0.10019914 -0.04355907 -0.00323522 -0.05547481  0.03906985  0.02803192\n",
            "  0.07496051  0.06401102  0.09370229  0.09084086]\n",
            "Mots similaires à 'city': [('significance', 0.8472838401794434), ('west', 0.7243070006370544), ('yves', 0.6848574280738831), ('palm', 0.6818342208862305), ('medina', 0.6785539388656616)]\n"
          ]
        }
      ]
    },
    {
      "cell_type": "code",
      "source": [
        "word_vector = model.wv['morocco']\n",
        "similar_words = model.wv.most_similar('morocco', topn=5)\n",
        "print(\"Vecteur sémantique de 'morocco':\", word_vector)\n",
        "print(\"Mots similaires à 'morocco':\", similar_words)\n",
        "#afficher les mots similaires à \"morocco\"\n"
      ],
      "metadata": {
        "colab": {
          "base_uri": "https://localhost:8080/"
        },
        "id": "kemlb7L1Dh56",
        "outputId": "9ef54898-8bce-4645-d37a-387206457477"
      },
      "execution_count": null,
      "outputs": [
        {
          "output_type": "stream",
          "name": "stdout",
          "text": [
            "Vecteur sémantique de 'morocco': [ 0.01672424  0.00196985  0.03735876  0.0035841   0.0965725   0.0512088\n",
            " -0.08345772 -0.06745791  0.00712625  0.06226778]\n",
            "Mots similaires à 'morocco': [('vibrant', 0.8968371152877808), ('plethora', 0.7644076347351074), ('designer', 0.6608176827430725), ('bordered', 0.6126592755317688), ('trade', 0.6121020913124084)]\n"
          ]
        }
      ]
    },
    {
      "cell_type": "code",
      "source": [
        "word_vector = model.wv['marrakech']\n",
        "similar_words = model.wv.most_similar('marrakech', topn=5)\n",
        "print(\"Vecteur sémantique de 'marrakech':\", word_vector)\n",
        "print(\"Mots similaires à 'marrakech':\", similar_words)\n"
      ],
      "metadata": {
        "colab": {
          "base_uri": "https://localhost:8080/"
        },
        "id": "NcKiHcqYDkVd",
        "outputId": "62edfc77-bf5c-4826-f35c-0e85485c3714"
      },
      "execution_count": null,
      "outputs": [
        {
          "output_type": "stream",
          "name": "stdout",
          "text": [
            "Vecteur sémantique de 'marrakech': [ 0.05522303  0.08300287 -0.01149686 -0.09137529  0.04376713  0.00636258\n",
            "  0.07997755 -0.00541643 -0.02846561 -0.08940256]\n",
            "Mots similaires à 'marrakech': [('have', 0.8174570798873901), ('cumin', 0.7543390393257141), ('tapestry', 0.6728073954582214), ('chic', 0.6443474888801575), ('tombs', 0.6406199932098389)]\n"
          ]
        }
      ]
    }
  ]
}